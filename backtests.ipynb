{
  "cells": [
    {
      "cell_type": "markdown",
      "metadata": {
        "id": "view-in-github",
        "colab_type": "text"
      },
      "source": [
        "<a href=\"https://colab.research.google.com/github/stefanciprian/rd/blob/main/backtests.ipynb\" target=\"_parent\"><img src=\"https://colab.research.google.com/assets/colab-badge.svg\" alt=\"Open In Colab\"/></a>"
      ]
    },
    {
      "cell_type": "markdown",
      "metadata": {
        "id": "Oe5b0bJfJnNw"
      },
      "source": [
        "# Backtest VIX"
      ]
    },
    {
      "cell_type": "code",
      "execution_count": null,
      "metadata": {
        "colab": {
          "base_uri": "https://localhost:8080/",
          "height": 1000
        },
        "id": "4kHbILTaJjEc",
        "outputId": "1fa6c685-ce06-4e63-f805-072524c9173c"
      },
      "outputs": [
        {
          "ename": "",
          "evalue": "",
          "output_type": "error",
          "traceback": [
            "\u001b[1;31mRunning cells with 'Python 3.13.1' requires the ipykernel package.\n",
            "\u001b[1;31mRun the following command to install 'ipykernel' into the Python environment. \n",
            "\u001b[1;31mCommand: '/usr/local/bin/python3 -m pip install ipykernel -U --user --force-reinstall'"
          ]
        }
      ],
      "source": [
        "!pip install vectorbt pandas yfinance"
      ]
    },
    {
      "cell_type": "code",
      "execution_count": null,
      "metadata": {
        "id": "aCxsnpL6JjEe"
      },
      "outputs": [],
      "source": [
        "import vectorbt as vbt\n",
        "import pandas as pd\n",
        "import yfinance as yf\n",
        "import matplotlib.pyplot as plt\n",
        "\n",
        "# Download VIX data\n",
        "vix_data = yf.download('^VIX', start='2000-01-01', end='2024-11-29')\n",
        "\n",
        "# Define entry and exit signals\n",
        "entries = vix_data['Close'] <= 14\n",
        "exits = vix_data['Close'] >= 20\n",
        "\n",
        "# Create a portfolio\n",
        "portfolio = vbt.Portfolio.from_signals(\n",
        "    vix_data['Close'],\n",
        "    entries,\n",
        "    exits,\n",
        "    init_cash=20000,\n",
        "    fees=0.001\n",
        ")\n",
        "\n",
        "# Simplified Equity Plot\n",
        "portfolio.total_return().vbt.plot(title=\"Portfolio Total Return\").show()\n",
        "#portfolio['equity'].vbt.plot(title=\"Portfolio Equity Curve\").show()\n",
        "#portfolio.drawdowns.plot(title=\"Portfolio Drawdowns\").show()\n",
        "print(portfolio.drawdowns.records)\n",
        "\n",
        "# Calculate and plot drawdown depth\n",
        "drawdown_depth = portfolio.drawdowns.records['peak_val'] - portfolio.drawdowns.records['valley_val']\n",
        "\n",
        "# Plot drawdown depth over time\n",
        "# plt.figure(figsize=(10, 6))\n",
        "# plt.plot(drawdown_depth, label=\"Drawdown Depth\")\n",
        "# plt.title(\"Drawdown Depth Over Time\")\n",
        "# plt.xlabel(\"Drawdown Events\")\n",
        "# plt.ylabel(\"Depth\")\n",
        "# plt.legend()\n",
        "# plt.show()\n",
        "\n",
        "# portfolio.drawdowns.records['valley_val'].vbt.plot(title=\"Drawdown Valley Values\").show()\n",
        "\n"
      ]
    },
    {
      "cell_type": "markdown",
      "metadata": {
        "id": "EcD5DrOE6ccS"
      },
      "source": [
        "# QYLP & VYXL"
      ]
    },
    {
      "cell_type": "code",
      "execution_count": null,
      "metadata": {
        "colab": {
          "base_uri": "https://localhost:8080/"
        },
        "id": "PoEAjmVc62Mq",
        "outputId": "f71575eb-f21b-452c-824a-a68194b81987"
      },
      "outputs": [
        {
          "name": "stdout",
          "output_type": "stream",
          "text": [
            "Collecting vectorbt\n",
            "  Downloading vectorbt-0.27.2-py3-none-any.whl (527 kB)\n",
            "\u001b[2K     \u001b[90m━━━━━━━━━━━━━━━━━━━━━━━━━━━━━━━━━━━━━━━\u001b[0m \u001b[32m527.6/527.6 kB\u001b[0m \u001b[31m3.1 MB/s\u001b[0m eta \u001b[36m0:00:00\u001b[0m00:01\u001b[0m00:01\u001b[0m\n",
            "\u001b[?25hCollecting pandas\n",
            "  Downloading pandas-2.2.3-cp310-cp310-macosx_10_9_x86_64.whl (12.6 MB)\n",
            "\u001b[2K     \u001b[90m━━━━━━━━━━━━━━━━━━━━━━━━━━━━━━━━━━━━━━━━\u001b[0m \u001b[32m12.6/12.6 MB\u001b[0m \u001b[31m6.3 MB/s\u001b[0m eta \u001b[36m0:00:00\u001b[0m00:01\u001b[0m00:01\u001b[0m\n",
            "\u001b[?25hCollecting numpy\n",
            "  Downloading numpy-2.2.4-cp310-cp310-macosx_10_9_x86_64.whl (21.3 MB)\n",
            "\u001b[2K     \u001b[90m━━━━━━━━━━━━━━━━━━━━━━━━━━━━━━━━━━━━━━━━\u001b[0m \u001b[32m21.3/21.3 MB\u001b[0m \u001b[31m7.3 MB/s\u001b[0m eta \u001b[36m0:00:00\u001b[0m00:01\u001b[0m00:01\u001b[0m\n",
            "\u001b[?25hCollecting matplotlib\n",
            "  Downloading matplotlib-3.10.1-cp310-cp310-macosx_10_12_x86_64.whl (8.2 MB)\n",
            "\u001b[2K     \u001b[90m━━━━━━━━━━━━━━━━━━━━━━━━━━━━━━━━━━━━━━━━\u001b[0m \u001b[32m8.2/8.2 MB\u001b[0m \u001b[31m7.5 MB/s\u001b[0m eta \u001b[36m0:00:00\u001b[0m00:01\u001b[0m00:01\u001b[0m\n",
            "\u001b[?25hCollecting yfinance\n",
            "  Downloading yfinance-0.2.55-py2.py3-none-any.whl (109 kB)\n",
            "\u001b[2K     \u001b[90m━━━━━━━━━━━━━━━━━━━━━━━━━━━━━━━━━━━━━━━\u001b[0m \u001b[32m109.8/109.8 kB\u001b[0m \u001b[31m4.6 MB/s\u001b[0m eta \u001b[36m0:00:00\u001b[0m\n",
            "\u001b[?25hCollecting scikit-learn\n",
            "  Downloading scikit_learn-1.6.1-cp310-cp310-macosx_10_9_x86_64.whl (12.1 MB)\n",
            "\u001b[2K     \u001b[90m━━━━━━━━━━━━━━━━━━━━━━━━━━━━━━━━━━━━━━━━\u001b[0m \u001b[32m12.1/12.1 MB\u001b[0m \u001b[31m6.6 MB/s\u001b[0m eta \u001b[36m0:00:00\u001b[0m00:01\u001b[0m00:01\u001b[0m\n",
            "\u001b[?25hCollecting scipy\n",
            "  Downloading scipy-1.15.2-cp310-cp310-macosx_10_13_x86_64.whl (38.7 MB)\n",
            "\u001b[2K     \u001b[90m━━━━━━━━━━━━━━━━━━━━━━━━━━━━━━━━━━━━━━━━\u001b[0m \u001b[32m38.7/38.7 MB\u001b[0m \u001b[31m5.8 MB/s\u001b[0m eta \u001b[36m0:00:00\u001b[0m00:01\u001b[0m00:01\u001b[0m\n",
            "\u001b[?25hCollecting numba<0.57.0,>=0.56.0\n",
            "  Downloading numba-0.56.4-cp310-cp310-macosx_10_14_x86_64.whl (2.4 MB)\n",
            "\u001b[2K     \u001b[90m━━━━━━━━━━━━━━━━━━━━━━━━━━━━━━━━━━━━━━━━\u001b[0m \u001b[32m2.4/2.4 MB\u001b[0m \u001b[31m5.3 MB/s\u001b[0m eta \u001b[36m0:00:00\u001b[0m00:01\u001b[0m00:01\u001b[0m\n",
            "\u001b[?25hCollecting dateparser\n",
            "  Downloading dateparser-1.2.1-py3-none-any.whl (295 kB)\n",
            "\u001b[2K     \u001b[90m━━━━━━━━━━━━━━━━━━━━━━━━━━━━━━━━━━━━━━━\u001b[0m \u001b[32m295.7/295.7 kB\u001b[0m \u001b[31m6.0 MB/s\u001b[0m eta \u001b[36m0:00:00\u001b[0ma \u001b[36m0:00:01\u001b[0m\n",
            "\u001b[?25hCollecting imageio\n",
            "  Downloading imageio-2.37.0-py3-none-any.whl (315 kB)\n",
            "\u001b[2K     \u001b[90m━━━━━━━━━━━━━━━━━━━━━━━━━━━━━━━━━━━━━━━\u001b[0m \u001b[32m315.8/315.8 kB\u001b[0m \u001b[31m4.6 MB/s\u001b[0m eta \u001b[36m0:00:00\u001b[0ma \u001b[36m0:00:01\u001b[0m\n",
            "\u001b[?25hCollecting schedule\n",
            "  Downloading schedule-1.2.2-py3-none-any.whl (12 kB)\n",
            "Collecting dill\n",
            "  Downloading dill-0.3.9-py3-none-any.whl (119 kB)\n",
            "\u001b[2K     \u001b[90m━━━━━━━━━━━━━━━━━━━━━━━━━━━━━━━━━━━━━━━\u001b[0m \u001b[32m119.4/119.4 kB\u001b[0m \u001b[31m2.5 MB/s\u001b[0m eta \u001b[36m0:00:00\u001b[0ma \u001b[36m0:00:01\u001b[0m\n",
            "\u001b[?25hCollecting tqdm\n",
            "  Downloading tqdm-4.67.1-py3-none-any.whl (78 kB)\n",
            "\u001b[2K     \u001b[90m━━━━━━━━━━━━━━━━━━━━━━━━━━━━━━━━━━━━━━━━\u001b[0m \u001b[32m78.5/78.5 kB\u001b[0m \u001b[31m2.4 MB/s\u001b[0m eta \u001b[36m0:00:00\u001b[0m\n",
            "\u001b[?25hCollecting plotly<6.0.0,>=4.12.0\n",
            "  Downloading plotly-5.24.1-py3-none-any.whl (19.1 MB)\n",
            "\u001b[2K     \u001b[90m━━━━━━━━━━━━━━━━━━━━━━━━━━━━━━━━━━━━━━━━\u001b[0m \u001b[32m19.1/19.1 MB\u001b[0m \u001b[31m6.5 MB/s\u001b[0m eta \u001b[36m0:00:00\u001b[0m00:01\u001b[0m00:01\u001b[0m\n",
            "\u001b[?25hCollecting requests\n",
            "  Downloading requests-2.32.3-py3-none-any.whl (64 kB)\n",
            "\u001b[2K     \u001b[90m━━━━━━━━━━━━━━━━━━━━━━━━━━━━━━━━━━━━━━━━\u001b[0m \u001b[32m64.9/64.9 kB\u001b[0m \u001b[31m2.3 MB/s\u001b[0m eta \u001b[36m0:00:00\u001b[0m\n",
            "\u001b[?25hCollecting pytz\n",
            "  Downloading pytz-2025.2-py2.py3-none-any.whl (509 kB)\n",
            "\u001b[2K     \u001b[90m━━━━━━━━━━━━━━━━━━━━━━━━━━━━━━━━━━━━━━━\u001b[0m \u001b[32m509.2/509.2 kB\u001b[0m \u001b[31m4.7 MB/s\u001b[0m eta \u001b[36m0:00:00\u001b[0m00:01\u001b[0m00:01\u001b[0m\n",
            "\u001b[?25hCollecting mypy_extensions\n",
            "  Downloading mypy_extensions-1.0.0-py3-none-any.whl (4.7 kB)\n",
            "Collecting ipywidgets>=7.0.0\n",
            "  Downloading ipywidgets-8.1.5-py3-none-any.whl (139 kB)\n",
            "\u001b[2K     \u001b[90m━━━━━━━━━━━━━━━━━━━━━━━━━━━━━━━━━━━━━━━\u001b[0m \u001b[32m139.8/139.8 kB\u001b[0m \u001b[31m3.2 MB/s\u001b[0m eta \u001b[36m0:00:00\u001b[0ma \u001b[36m0:00:01\u001b[0m\n",
            "\u001b[?25hCollecting tzdata>=2022.7\n",
            "  Downloading tzdata-2025.2-py2.py3-none-any.whl (347 kB)\n",
            "\u001b[2K     \u001b[90m━━━━━━━━━━━━━━━━━━━━━━━━━━━━━━━━━━━━━━━\u001b[0m \u001b[32m347.8/347.8 kB\u001b[0m \u001b[31m5.4 MB/s\u001b[0m eta \u001b[36m0:00:00\u001b[0ma \u001b[36m0:00:01\u001b[0m\n",
            "\u001b[?25hRequirement already satisfied: python-dateutil>=2.8.2 in /Users/stefanciprianhotoleanu/Library/Python/3.10/lib/python/site-packages (from pandas) (2.9.0.post0)\n",
            "Collecting contourpy>=1.0.1\n",
            "  Downloading contourpy-1.3.1-cp310-cp310-macosx_10_9_x86_64.whl (268 kB)\n",
            "\u001b[2K     \u001b[90m━━━━━━━━━━━━━━━━━━━━━━━━━━━━━━━━━━━━━━━\u001b[0m \u001b[32m268.5/268.5 kB\u001b[0m \u001b[31m5.2 MB/s\u001b[0m eta \u001b[36m0:00:00\u001b[0m00:01\u001b[0m\n",
            "\u001b[?25hRequirement already satisfied: packaging>=20.0 in /Users/stefanciprianhotoleanu/Library/Python/3.10/lib/python/site-packages (from matplotlib) (24.2)\n",
            "Collecting fonttools>=4.22.0\n",
            "  Downloading fonttools-4.56.0-cp310-cp310-macosx_10_9_x86_64.whl (2.3 MB)\n",
            "\u001b[2K     \u001b[90m━━━━━━━━━━━━━━━━━━━━━━━━━━━━━━━━━━━━━━━━\u001b[0m \u001b[32m2.3/2.3 MB\u001b[0m \u001b[31m6.3 MB/s\u001b[0m eta \u001b[36m0:00:00\u001b[0m00:01\u001b[0m00:01\u001b[0m\n",
            "\u001b[?25hCollecting cycler>=0.10\n",
            "  Downloading cycler-0.12.1-py3-none-any.whl (8.3 kB)\n",
            "Collecting kiwisolver>=1.3.1\n",
            "  Downloading kiwisolver-1.4.8-cp310-cp310-macosx_10_9_x86_64.whl (66 kB)\n",
            "\u001b[2K     \u001b[90m━━━━━━━━━━━━━━━━━━━━━━━━━━━━━━━━━━━━━━━━\u001b[0m \u001b[32m66.7/66.7 kB\u001b[0m \u001b[31m2.2 MB/s\u001b[0m eta \u001b[36m0:00:00\u001b[0m\n",
            "\u001b[?25hCollecting pillow>=8\n",
            "  Downloading pillow-11.1.0-cp310-cp310-macosx_10_10_x86_64.whl (3.2 MB)\n",
            "\u001b[2K     \u001b[90m━━━━━━━━━━━━━━━━━━━━━━━━━━━━━━━━━━━━━━━━\u001b[0m \u001b[32m3.2/3.2 MB\u001b[0m \u001b[31m6.1 MB/s\u001b[0m eta \u001b[36m0:00:00\u001b[0m00:01\u001b[0m00:01\u001b[0mm\n",
            "\u001b[?25hCollecting pyparsing>=2.3.1\n",
            "  Downloading pyparsing-3.2.3-py3-none-any.whl (111 kB)\n",
            "\u001b[2K     \u001b[90m━━━━━━━━━━━━━━━━━━━━━━━━━━━━━━━━━━━━━━━\u001b[0m \u001b[32m111.1/111.1 kB\u001b[0m \u001b[31m4.0 MB/s\u001b[0m eta \u001b[36m0:00:00\u001b[0m\n",
            "\u001b[?25hCollecting frozendict>=2.3.4\n",
            "  Downloading frozendict-2.4.6-cp310-cp310-macosx_10_9_x86_64.whl (37 kB)\n",
            "Collecting multitasking>=0.0.7\n",
            "  Downloading multitasking-0.0.11-py3-none-any.whl (8.5 kB)\n",
            "Requirement already satisfied: platformdirs>=2.0.0 in /Users/stefanciprianhotoleanu/Library/Python/3.10/lib/python/site-packages (from yfinance) (4.3.6)\n",
            "Collecting peewee>=3.16.2\n",
            "  Downloading peewee-3.17.9.tar.gz (3.0 MB)\n",
            "\u001b[2K     \u001b[90m━━━━━━━━━━━━━━━━━━━━━━━━━━━━━━━━━━━━━━━━\u001b[0m \u001b[32m3.0/3.0 MB\u001b[0m \u001b[31m6.6 MB/s\u001b[0m eta \u001b[36m0:00:00\u001b[0m00:01\u001b[0m00:01\u001b[0m\n",
            "\u001b[?25h  Installing build dependencies ... \u001b[?25ldone\n",
            "\u001b[?25h  Getting requirements to build wheel ... \u001b[?25ldone\n",
            "\u001b[?25h  Preparing metadata (pyproject.toml) ... \u001b[?25ldone\n",
            "\u001b[?25hCollecting beautifulsoup4>=4.11.1\n",
            "  Downloading beautifulsoup4-4.13.3-py3-none-any.whl (186 kB)\n",
            "\u001b[2K     \u001b[90m━━━━━━━━━━━━━━━━━━━━━━━━━━━━━━━━━━━━━━━\u001b[0m \u001b[32m186.0/186.0 kB\u001b[0m \u001b[31m4.1 MB/s\u001b[0m eta \u001b[36m0:00:00\u001b[0m00:01\u001b[0m\n",
            "\u001b[?25hRequirement already satisfied: typing-extensions>=4.0.0 in /Users/stefanciprianhotoleanu/Library/Python/3.10/lib/python/site-packages (from beautifulsoup4>=4.11.1->yfinance) (4.12.2)\n",
            "Collecting soupsieve>1.2\n",
            "  Downloading soupsieve-2.6-py3-none-any.whl (36 kB)\n",
            "Requirement already satisfied: comm>=0.1.3 in /Users/stefanciprianhotoleanu/Library/Python/3.10/lib/python/site-packages (from ipywidgets>=7.0.0->vectorbt) (0.2.2)\n",
            "Collecting jupyterlab-widgets~=3.0.12\n",
            "  Downloading jupyterlab_widgets-3.0.13-py3-none-any.whl (214 kB)\n",
            "\u001b[2K     \u001b[90m━━━━━━━━━━━━━━━━━━━━━━━━━━━━━━━━━━━━━━━\u001b[0m \u001b[32m214.4/214.4 kB\u001b[0m \u001b[31m4.3 MB/s\u001b[0m eta \u001b[36m0:00:00\u001b[0ma \u001b[36m0:00:01\u001b[0m\n",
            "\u001b[?25hRequirement already satisfied: ipython>=6.1.0 in /Users/stefanciprianhotoleanu/Library/Python/3.10/lib/python/site-packages (from ipywidgets>=7.0.0->vectorbt) (8.30.0)\n",
            "Collecting widgetsnbextension~=4.0.12\n",
            "  Downloading widgetsnbextension-4.0.13-py3-none-any.whl (2.3 MB)\n",
            "\u001b[2K     \u001b[90m━━━━━━━━━━━━━━━━━━━━━━━━━━━━━━━━━━━━━━━━\u001b[0m \u001b[32m2.3/2.3 MB\u001b[0m \u001b[31m5.4 MB/s\u001b[0m eta \u001b[36m0:00:00\u001b[0m00:01\u001b[0m00:01\u001b[0m\n",
            "\u001b[?25hRequirement already satisfied: traitlets>=4.3.1 in /Users/stefanciprianhotoleanu/Library/Python/3.10/lib/python/site-packages (from ipywidgets>=7.0.0->vectorbt) (5.14.3)\n",
            "Collecting numpy\n",
            "  Downloading numpy-1.23.5-cp310-cp310-macosx_10_9_x86_64.whl (18.1 MB)\n",
            "\u001b[2K     \u001b[90m━━━━━━━━━━━━━━━━━━━━━━━━━━━━━━━━━━━━━━━━\u001b[0m \u001b[32m18.1/18.1 MB\u001b[0m \u001b[31m5.8 MB/s\u001b[0m eta \u001b[36m0:00:00\u001b[0m00:01\u001b[0m00:01\u001b[0m\n",
            "\u001b[?25hRequirement already satisfied: setuptools in /usr/local/lib/python3.10/site-packages (from numba<0.57.0,>=0.56.0->vectorbt) (67.6.1)\n",
            "Collecting llvmlite<0.40,>=0.39.0dev0\n",
            "  Downloading llvmlite-0.39.1-cp310-cp310-macosx_10_9_x86_64.whl (25.5 MB)\n",
            "\u001b[2K     \u001b[90m━━━━━━━━━━━━━━━━━━━━━━━━━━━━━━━━━━━━━━━━\u001b[0m \u001b[32m25.5/25.5 MB\u001b[0m \u001b[31m6.8 MB/s\u001b[0m eta \u001b[36m0:00:00\u001b[0m00:01\u001b[0m00:01\u001b[0m\n",
            "\u001b[?25hCollecting tenacity>=6.2.0\n",
            "  Downloading tenacity-9.0.0-py3-none-any.whl (28 kB)\n",
            "Requirement already satisfied: six>=1.5 in /Users/stefanciprianhotoleanu/Library/Python/3.10/lib/python/site-packages (from python-dateutil>=2.8.2->pandas) (1.16.0)\n",
            "Collecting certifi>=2017.4.17\n",
            "  Downloading certifi-2025.1.31-py3-none-any.whl (166 kB)\n",
            "\u001b[2K     \u001b[90m━━━━━━━━━━━━━━━━━━━━━━━━━━━━━━━━━━━━━━━\u001b[0m \u001b[32m166.4/166.4 kB\u001b[0m \u001b[31m5.3 MB/s\u001b[0m eta \u001b[36m0:00:00\u001b[0m\n",
            "\u001b[?25hCollecting charset-normalizer<4,>=2\n",
            "  Downloading charset_normalizer-3.4.1-cp310-cp310-macosx_10_9_universal2.whl (198 kB)\n",
            "\u001b[2K     \u001b[90m━━━━━━━━━━━━━━━━━━━━━━━━━━━━━━━━━━━━━━━\u001b[0m \u001b[32m198.0/198.0 kB\u001b[0m \u001b[31m5.5 MB/s\u001b[0m eta \u001b[36m0:00:00\u001b[0m\n",
            "\u001b[?25hCollecting urllib3<3,>=1.21.1\n",
            "  Downloading urllib3-2.3.0-py3-none-any.whl (128 kB)\n",
            "\u001b[2K     \u001b[90m━━━━━━━━━━━━━━━━━━━━━━━━━━━━━━━━━━━━━━━\u001b[0m \u001b[32m128.4/128.4 kB\u001b[0m \u001b[31m4.5 MB/s\u001b[0m eta \u001b[36m0:00:00\u001b[0m\n",
            "\u001b[?25hCollecting idna<4,>=2.5\n",
            "  Downloading idna-3.10-py3-none-any.whl (70 kB)\n",
            "\u001b[2K     \u001b[90m━━━━━━━━━━━━━━━━━━━━━━━━━━━━━━━━━━━━━━━\u001b[0m \u001b[32m70.4/70.4 kB\u001b[0m \u001b[31m797.2 kB/s\u001b[0m eta \u001b[36m0:00:00\u001b[0ma \u001b[36m0:00:01\u001b[0m\n",
            "\u001b[?25hCollecting regex!=2019.02.19,!=2021.8.27,>=2015.06.24\n",
            "  Downloading regex-2024.11.6-cp310-cp310-macosx_10_9_x86_64.whl (287 kB)\n",
            "\u001b[2K     \u001b[90m━━━━━━━━━━━━━━━━━━━━━━━━━━━━━━━━━━━━━━━\u001b[0m \u001b[32m287.7/287.7 kB\u001b[0m \u001b[31m6.8 MB/s\u001b[0m eta \u001b[36m0:00:00\u001b[0m00:01\u001b[0m\n",
            "\u001b[?25hCollecting tzlocal>=0.2\n",
            "  Downloading tzlocal-5.3.1-py3-none-any.whl (18 kB)\n",
            "Collecting joblib>=1.2.0\n",
            "  Downloading joblib-1.4.2-py3-none-any.whl (301 kB)\n",
            "\u001b[2K     \u001b[90m━━━━━━━━━━━━━━━━━━━━━━━━━━━━━━━━━━━━━━━\u001b[0m \u001b[32m301.8/301.8 kB\u001b[0m \u001b[31m3.7 MB/s\u001b[0m eta \u001b[36m0:00:00\u001b[0m00:01\u001b[0m00:01\u001b[0m\n",
            "\u001b[?25hCollecting threadpoolctl>=3.1.0\n",
            "  Downloading threadpoolctl-3.6.0-py3-none-any.whl (18 kB)\n",
            "Requirement already satisfied: pexpect>4.3 in /Users/stefanciprianhotoleanu/Library/Python/3.10/lib/python/site-packages (from ipython>=6.1.0->ipywidgets>=7.0.0->vectorbt) (4.9.0)\n",
            "Requirement already satisfied: jedi>=0.16 in /Users/stefanciprianhotoleanu/Library/Python/3.10/lib/python/site-packages (from ipython>=6.1.0->ipywidgets>=7.0.0->vectorbt) (0.19.2)\n",
            "Requirement already satisfied: exceptiongroup in /Users/stefanciprianhotoleanu/Library/Python/3.10/lib/python/site-packages (from ipython>=6.1.0->ipywidgets>=7.0.0->vectorbt) (1.2.2)\n",
            "Requirement already satisfied: decorator in /Users/stefanciprianhotoleanu/Library/Python/3.10/lib/python/site-packages (from ipython>=6.1.0->ipywidgets>=7.0.0->vectorbt) (5.1.1)\n",
            "Requirement already satisfied: pygments>=2.4.0 in /Users/stefanciprianhotoleanu/Library/Python/3.10/lib/python/site-packages (from ipython>=6.1.0->ipywidgets>=7.0.0->vectorbt) (2.18.0)\n",
            "Requirement already satisfied: matplotlib-inline in /Users/stefanciprianhotoleanu/Library/Python/3.10/lib/python/site-packages (from ipython>=6.1.0->ipywidgets>=7.0.0->vectorbt) (0.1.7)\n",
            "Requirement already satisfied: stack_data in /Users/stefanciprianhotoleanu/Library/Python/3.10/lib/python/site-packages (from ipython>=6.1.0->ipywidgets>=7.0.0->vectorbt) (0.6.3)\n",
            "Requirement already satisfied: prompt_toolkit<3.1.0,>=3.0.41 in /Users/stefanciprianhotoleanu/Library/Python/3.10/lib/python/site-packages (from ipython>=6.1.0->ipywidgets>=7.0.0->vectorbt) (3.0.48)\n",
            "Requirement already satisfied: parso<0.9.0,>=0.8.4 in /Users/stefanciprianhotoleanu/Library/Python/3.10/lib/python/site-packages (from jedi>=0.16->ipython>=6.1.0->ipywidgets>=7.0.0->vectorbt) (0.8.4)\n",
            "Requirement already satisfied: ptyprocess>=0.5 in /Users/stefanciprianhotoleanu/Library/Python/3.10/lib/python/site-packages (from pexpect>4.3->ipython>=6.1.0->ipywidgets>=7.0.0->vectorbt) (0.7.0)\n",
            "Requirement already satisfied: wcwidth in /Users/stefanciprianhotoleanu/Library/Python/3.10/lib/python/site-packages (from prompt_toolkit<3.1.0,>=3.0.41->ipython>=6.1.0->ipywidgets>=7.0.0->vectorbt) (0.2.13)\n",
            "Requirement already satisfied: asttokens>=2.1.0 in /Users/stefanciprianhotoleanu/Library/Python/3.10/lib/python/site-packages (from stack_data->ipython>=6.1.0->ipywidgets>=7.0.0->vectorbt) (2.4.1)\n",
            "Requirement already satisfied: executing>=1.2.0 in /Users/stefanciprianhotoleanu/Library/Python/3.10/lib/python/site-packages (from stack_data->ipython>=6.1.0->ipywidgets>=7.0.0->vectorbt) (2.1.0)\n",
            "Requirement already satisfied: pure-eval in /Users/stefanciprianhotoleanu/Library/Python/3.10/lib/python/site-packages (from stack_data->ipython>=6.1.0->ipywidgets>=7.0.0->vectorbt) (0.2.3)\n",
            "Building wheels for collected packages: peewee\n",
            "  Building wheel for peewee (pyproject.toml) ... \u001b[?25ldone\n",
            "\u001b[?25h  Created wheel for peewee: filename=peewee-3.17.9-cp310-cp310-macosx_12_0_x86_64.whl size=282081 sha256=50fe9897f59fe8c66282825d78569e7edbca56b2d7ce9d863c86d0e45a0f0be2\n",
            "  Stored in directory: /Users/stefanciprianhotoleanu/Library/Caches/pip/wheels/fd/fd/5e/90b9ec95da4fd6c96237b580ce74f89d6bdea547ad151ab5f4\n",
            "Successfully built peewee\n",
            "Installing collected packages: pytz, peewee, multitasking, widgetsnbextension, urllib3, tzlocal, tzdata, tqdm, threadpoolctl, tenacity, soupsieve, schedule, regex, pyparsing, pillow, numpy, mypy_extensions, llvmlite, kiwisolver, jupyterlab-widgets, joblib, idna, frozendict, fonttools, dill, cycler, charset-normalizer, certifi, scipy, requests, plotly, pandas, numba, imageio, dateparser, contourpy, beautifulsoup4, yfinance, scikit-learn, matplotlib, ipywidgets, vectorbt\n",
            "Successfully installed beautifulsoup4-4.13.3 certifi-2025.1.31 charset-normalizer-3.4.1 contourpy-1.3.1 cycler-0.12.1 dateparser-1.2.1 dill-0.3.9 fonttools-4.56.0 frozendict-2.4.6 idna-3.10 imageio-2.37.0 ipywidgets-8.1.5 joblib-1.4.2 jupyterlab-widgets-3.0.13 kiwisolver-1.4.8 llvmlite-0.39.1 matplotlib-3.10.1 multitasking-0.0.11 mypy_extensions-1.0.0 numba-0.56.4 numpy-1.23.5 pandas-2.2.3 peewee-3.17.9 pillow-11.1.0 plotly-5.24.1 pyparsing-3.2.3 pytz-2025.2 regex-2024.11.6 requests-2.32.3 schedule-1.2.2 scikit-learn-1.6.1 scipy-1.15.2 soupsieve-2.6 tenacity-9.0.0 threadpoolctl-3.6.0 tqdm-4.67.1 tzdata-2025.2 tzlocal-5.3.1 urllib3-2.3.0 vectorbt-0.27.2 widgetsnbextension-4.0.13 yfinance-0.2.55\n",
            "\n",
            "\u001b[1m[\u001b[0m\u001b[34;49mnotice\u001b[0m\u001b[1;39;49m]\u001b[0m\u001b[39;49m A new release of pip is available: \u001b[0m\u001b[31;49m23.0.1\u001b[0m\u001b[39;49m -> \u001b[0m\u001b[32;49m25.0.1\u001b[0m\n",
            "\u001b[1m[\u001b[0m\u001b[34;49mnotice\u001b[0m\u001b[1;39;49m]\u001b[0m\u001b[39;49m To update, run: \u001b[0m\u001b[32;49mpython3.10 -m pip install --upgrade pip\u001b[0m\n",
            "Note: you may need to restart the kernel to use updated packages.\n"
          ]
        }
      ],
      "source": [
        "pip install vectorbt pandas numpy matplotlib yfinance"
      ]
    },
    {
      "cell_type": "code",
      "execution_count": 11,
      "metadata": {
        "colab": {
          "base_uri": "https://localhost:8080/",
          "height": 608
        },
        "id": "98QGrP1v65vm",
        "outputId": "a6362c70-af3d-4cee-b1d7-1053c8357a5a"
      },
      "outputs": [
        {
          "output_type": "stream",
          "name": "stderr",
          "text": [
            "[*********************100%***********************]  1 of 1 completed\n",
            "[*********************100%***********************]  1 of 1 completed\n",
            "[*********************100%***********************]  1 of 1 completed\n"
          ]
        },
        {
          "output_type": "stream",
          "name": "stdout",
          "text": [
            "No price data available for QYLD.L. Skipping.\n",
            "No price data available for VIXL.L. Skipping.\n",
            "No price data available for ^GSPC. Skipping.\n"
          ]
        },
        {
          "output_type": "stream",
          "name": "stderr",
          "text": [
            "<ipython-input-11-8b68cdfef9c6>:108: UserWarning: No artists with labels found to put in legend.  Note that artists whose label start with an underscore are ignored when legend() is called with no argument.\n",
            "  plt.legend()\n"
          ]
        },
        {
          "output_type": "display_data",
          "data": {
            "text/plain": [
              "<Figure size 1500x800 with 1 Axes>"
            ],
            "image/png": "[encoded data removed]"
          },
          "metadata": {}
        }
      ],
      "source": [
        "import yfinance as yf\n",
        "import pandas as pd\n",
        "import numpy as np\n",
        "import matplotlib.pyplot as plt\n",
        "import vectorbt as vbt\n",
        "\n",
        "def backtest_strategy(ticker, initial_cash=5000, initial_asset=5000, profit_threshold=0.20):\n",
        "    \"\"\"\n",
        "    Backtests a simple buy/sell strategy for a given ticker.\n",
        "\n",
        "    Args:\n",
        "        ticker (str): The stock ticker symbol.\n",
        "        initial_cash (float): The initial cash amount.\n",
        "        initial_asset (float): The initial asset value.\n",
        "        profit_threshold (float): The profit percentage threshold for selling.\n",
        "\n",
        "    Returns:\n",
        "        pd.DataFrame: A DataFrame containing the backtest results.\n",
        "    \"\"\"\n",
        "\n",
        "    data = yf.download(ticker, start='2023-03-01', end='2025-03-01')\n",
        "\n",
        "    if data.empty:\n",
        "        print(f\"No data downloaded for {ticker}. Skipping.\")\n",
        "        return pd.DataFrame()  # Return an empty DataFrame\n",
        "\n",
        "    columns = data.columns.tolist()\n",
        "\n",
        "    if 'Close' in columns:\n",
        "        prices = data['Close']\n",
        "    else:\n",
        "        print(f\"No price data available for {ticker}. Skipping.\")\n",
        "        return pd.DataFrame()\n",
        "\n",
        "    if prices.empty:\n",
        "        print(f\"No price data available for {ticker}. Skipping.\")\n",
        "        return pd.DataFrame()\n",
        "\n",
        "    dates = prices.index\n",
        "\n",
        "    cash = initial_cash\n",
        "    initial_price = float(prices.iloc[0])  # Convert to float\n",
        "    assets = initial_asset / initial_price\n",
        "    portfolio_value = [cash + assets * initial_price]\n",
        "    cash_values = [cash]\n",
        "    asset_values = [assets * initial_price]\n",
        "    positions = [assets]\n",
        "\n",
        "    in_position = True\n",
        "    buy_price = initial_price\n",
        "\n",
        "    for i in range(1, len(prices)):\n",
        "        current_price = float(prices.iloc[i])  # Convert to float\n",
        "        current_portfolio_value = cash + assets * current_price\n",
        "        portfolio_value.append(current_portfolio_value)\n",
        "        cash_values.append(cash)\n",
        "        asset_values.append(assets * current_price)\n",
        "        positions.append(assets)\n",
        "\n",
        "        if in_position:\n",
        "            if (current_price / buy_price - 1) >= profit_threshold:\n",
        "                cash += assets * current_price\n",
        "                assets = 0\n",
        "                in_position = False\n",
        "                buy_price = 0\n",
        "        else:\n",
        "            if current_price < buy_price * (1 - profit_threshold):\n",
        "                assets = cash / current_price\n",
        "                cash = 0\n",
        "                in_position = True\n",
        "                buy_price = current_price\n",
        "\n",
        "    results = pd.DataFrame({\n",
        "        'Date': dates,\n",
        "        'Portfolio Value': portfolio_value,\n",
        "        'Cash': cash_values,\n",
        "        'Asset Value': asset_values,\n",
        "        'Positions': positions,\n",
        "        'Price': prices,\n",
        "    })\n",
        "\n",
        "    return results\n",
        "\n",
        "def run_parallel_backtests(tickers, initial_cash=5000, initial_asset=5000, profit_threshold=0.20):\n",
        "    \"\"\"\n",
        "    Runs backtests in parallel for multiple tickers and plots the results.\n",
        "\n",
        "    Args:\n",
        "        tickers (list): A list of stock ticker symbols.\n",
        "        initial_cash (float): The initial cash amount.\n",
        "        initial_asset (float): The initial asset value.\n",
        "        profit_threshold (float): The profit percentage threshold for selling.\n",
        "    \"\"\"\n",
        "\n",
        "    results = {}\n",
        "    for ticker in tickers:\n",
        "        result = backtest_strategy(ticker, initial_cash, initial_asset, profit_threshold)\n",
        "        if not result.empty: # added check here.\n",
        "          results[ticker] = result\n",
        "\n",
        "    plt.figure(figsize=(15, 8))\n",
        "    for ticker, result in results.items():\n",
        "        plt.plot(result['Date'], result['Portfolio Value'], label=ticker)\n",
        "\n",
        "    plt.title('Portfolio Value Over Time')\n",
        "    plt.xlabel('Date')\n",
        "    plt.ylabel('Portfolio Value ($)')\n",
        "    plt.legend()\n",
        "    plt.grid(True)\n",
        "    plt.show()\n",
        "\n",
        "    for ticker, result in results.items():\n",
        "        print(f\"Final portfolio value for {ticker}: ${result['Portfolio Value'].iloc[-1]:.2f}\")\n",
        "        print(f\"Final cash for {ticker}: ${result['Cash'].iloc[-1]:.2f}\")\n",
        "        print(f\"Final position size for {ticker}: {result['Positions'].iloc[-1]:.2f}\")\n",
        "\n",
        "# Run the backtests\n",
        "tickers = ['QYLD.L', 'VIXL.L', '^GSPC']\n",
        "run_parallel_backtests(tickers)"
      ]
    },
    {
      "cell_type": "markdown",
      "source": [
        "# Test"
      ],
      "metadata": {
        "id": "9dcs9wJ2v-BG"
      }
    },
    {
      "cell_type": "code",
      "source": [
        "import numpy as np\n",
        "\n",
        "symbols = [\"^VIX-USD\"] #, \"QYLD.L-USD\"]\n",
        "price = vbt.YFData.download(symbols, missing_index='drop').get('Close')\n",
        "\n",
        "n = np.random.randint(10, 101, size=1000).tolist()\n",
        "pf = vbt.Portfolio.from_random_signals(price, n=n, init_cash=100, seed=42)\n",
        "\n",
        "mean_expectancy = pf.trades.expectancy().groupby(['randnx_n', 'symbol']).mean()\n",
        "fig = mean_expectancy.unstack().vbt.scatterplot(xaxis_title='randnx_n', yaxis_title='mean_expectancy')\n",
        "fig.show()\n",
        "\n",
        "symbols = [\"VIXL.L-USD\", \"QYLD.L-USD\"]\n",
        "price = vbt.YFData.download(symbols, missing_index='drop').get('Close')\n",
        "\n",
        "windows = np.arange(2, 101)\n",
        "fast_ma, slow_ma = vbt.MA.run_combs(price, window=windows, r=2, short_names=['fast', 'slow'])\n",
        "entries = fast_ma.ma_crossed_above(slow_ma)\n",
        "exits = fast_ma.ma_crossed_below(slow_ma)\n",
        "\n",
        "pf_kwargs = dict(size=np.inf, fees=0.001, freq='1D')\n",
        "pf = vbt.Portfolio.from_signals(price, entries, exits, **pf_kwargs)\n",
        "\n",
        "fig = pf.total_return().vbt.heatmap(\n",
        "    x_level='fast_window', y_level='slow_window', slider_level='symbol', symmetric=True,\n",
        "    trace_kwargs=dict(colorbar=dict(title='Total return', tickformat='%')))\n",
        "fig.show()\n",
        "\n",
        "pf[(10, 20, 'VIXL.L-USD')].stats()"
      ],
      "metadata": {
        "id": "10OyFAz4wAjK",
        "outputId": "b416ae28-393d-409d-9fe4-f8e2f282637f",
        "colab": {
          "base_uri": "https://localhost:8080/",
          "height": 418
        }
      },
      "execution_count": 18,
      "outputs": [
        {
          "output_type": "stream",
          "name": "stderr",
          "text": [
            "ERROR:yfinance:$^VIX-USD: possibly delisted; no timezone found\n"
          ]
        },
        {
          "output_type": "error",
          "ename": "KeyError",
          "evalue": "'symbol'",
          "traceback": [
            "\u001b[0;31m---------------------------------------------------------------------------\u001b[0m",
            "\u001b[0;31mKeyError\u001b[0m                                  Traceback (most recent call last)",
            "\u001b[0;32m<ipython-input-18-530f156a2f11>\u001b[0m in \u001b[0;36m<cell line: 0>\u001b[0;34m()\u001b[0m\n\u001b[1;32m      7\u001b[0m \u001b[0mpf\u001b[0m \u001b[0;34m=\u001b[0m \u001b[0mvbt\u001b[0m\u001b[0;34m.\u001b[0m\u001b[0mPortfolio\u001b[0m\u001b[0;34m.\u001b[0m\u001b[0mfrom_random_signals\u001b[0m\u001b[0;34m(\u001b[0m\u001b[0mprice\u001b[0m\u001b[0;34m,\u001b[0m \u001b[0mn\u001b[0m\u001b[0;34m=\u001b[0m\u001b[0mn\u001b[0m\u001b[0;34m,\u001b[0m \u001b[0minit_cash\u001b[0m\u001b[0;34m=\u001b[0m\u001b[0;36m100\u001b[0m\u001b[0;34m,\u001b[0m \u001b[0mseed\u001b[0m\u001b[0;34m=\u001b[0m\u001b[0;36m42\u001b[0m\u001b[0;34m)\u001b[0m\u001b[0;34m\u001b[0m\u001b[0;34m\u001b[0m\u001b[0m\n\u001b[1;32m      8\u001b[0m \u001b[0;34m\u001b[0m\u001b[0m\n\u001b[0;32m----> 9\u001b[0;31m \u001b[0mmean_expectancy\u001b[0m \u001b[0;34m=\u001b[0m \u001b[0mpf\u001b[0m\u001b[0;34m.\u001b[0m\u001b[0mtrades\u001b[0m\u001b[0;34m.\u001b[0m\u001b[0mexpectancy\u001b[0m\u001b[0;34m(\u001b[0m\u001b[0;34m)\u001b[0m\u001b[0;34m.\u001b[0m\u001b[0mgroupby\u001b[0m\u001b[0;34m(\u001b[0m\u001b[0;34m[\u001b[0m\u001b[0;34m'randnx_n'\u001b[0m\u001b[0;34m,\u001b[0m \u001b[0;34m'symbol'\u001b[0m\u001b[0;34m]\u001b[0m\u001b[0;34m)\u001b[0m\u001b[0;34m.\u001b[0m\u001b[0mmean\u001b[0m\u001b[0;34m(\u001b[0m\u001b[0;34m)\u001b[0m\u001b[0;34m\u001b[0m\u001b[0;34m\u001b[0m\u001b[0m\n\u001b[0m\u001b[1;32m     10\u001b[0m \u001b[0mfig\u001b[0m \u001b[0;34m=\u001b[0m \u001b[0mmean_expectancy\u001b[0m\u001b[0;34m.\u001b[0m\u001b[0munstack\u001b[0m\u001b[0;34m(\u001b[0m\u001b[0;34m)\u001b[0m\u001b[0;34m.\u001b[0m\u001b[0mvbt\u001b[0m\u001b[0;34m.\u001b[0m\u001b[0mscatterplot\u001b[0m\u001b[0;34m(\u001b[0m\u001b[0mxaxis_title\u001b[0m\u001b[0;34m=\u001b[0m\u001b[0;34m'randnx_n'\u001b[0m\u001b[0;34m,\u001b[0m \u001b[0myaxis_title\u001b[0m\u001b[0;34m=\u001b[0m\u001b[0;34m'mean_expectancy'\u001b[0m\u001b[0;34m)\u001b[0m\u001b[0;34m\u001b[0m\u001b[0;34m\u001b[0m\u001b[0m\n\u001b[1;32m     11\u001b[0m \u001b[0mfig\u001b[0m\u001b[0;34m.\u001b[0m\u001b[0mshow\u001b[0m\u001b[0;34m(\u001b[0m\u001b[0;34m)\u001b[0m\u001b[0;34m\u001b[0m\u001b[0;34m\u001b[0m\u001b[0m\n",
            "\u001b[0;32m/usr/local/lib/python3.11/dist-packages/pandas/core/series.py\u001b[0m in \u001b[0;36mgroupby\u001b[0;34m(self, by, axis, level, as_index, sort, group_keys, observed, dropna)\u001b[0m\n\u001b[1;32m   2245\u001b[0m         \u001b[0maxis\u001b[0m \u001b[0;34m=\u001b[0m \u001b[0mself\u001b[0m\u001b[0;34m.\u001b[0m\u001b[0m_get_axis_number\u001b[0m\u001b[0;34m(\u001b[0m\u001b[0maxis\u001b[0m\u001b[0;34m)\u001b[0m\u001b[0;34m\u001b[0m\u001b[0;34m\u001b[0m\u001b[0m\n\u001b[1;32m   2246\u001b[0m \u001b[0;34m\u001b[0m\u001b[0m\n\u001b[0;32m-> 2247\u001b[0;31m         return SeriesGroupBy(\n\u001b[0m\u001b[1;32m   2248\u001b[0m             \u001b[0mobj\u001b[0m\u001b[0;34m=\u001b[0m\u001b[0mself\u001b[0m\u001b[0;34m,\u001b[0m\u001b[0;34m\u001b[0m\u001b[0;34m\u001b[0m\u001b[0m\n\u001b[1;32m   2249\u001b[0m             \u001b[0mkeys\u001b[0m\u001b[0;34m=\u001b[0m\u001b[0mby\u001b[0m\u001b[0;34m,\u001b[0m\u001b[0;34m\u001b[0m\u001b[0;34m\u001b[0m\u001b[0m\n",
            "\u001b[0;32m/usr/local/lib/python3.11/dist-packages/pandas/core/groupby/groupby.py\u001b[0m in \u001b[0;36m__init__\u001b[0;34m(self, obj, keys, axis, level, grouper, exclusions, selection, as_index, sort, group_keys, observed, dropna)\u001b[0m\n\u001b[1;32m   1327\u001b[0m \u001b[0;34m\u001b[0m\u001b[0m\n\u001b[1;32m   1328\u001b[0m         \u001b[0;32mif\u001b[0m \u001b[0mgrouper\u001b[0m \u001b[0;32mis\u001b[0m \u001b[0;32mNone\u001b[0m\u001b[0;34m:\u001b[0m\u001b[0;34m\u001b[0m\u001b[0;34m\u001b[0m\u001b[0m\n\u001b[0;32m-> 1329\u001b[0;31m             grouper, exclusions, obj = get_grouper(\n\u001b[0m\u001b[1;32m   1330\u001b[0m                 \u001b[0mobj\u001b[0m\u001b[0;34m,\u001b[0m\u001b[0;34m\u001b[0m\u001b[0;34m\u001b[0m\u001b[0m\n\u001b[1;32m   1331\u001b[0m                 \u001b[0mkeys\u001b[0m\u001b[0;34m,\u001b[0m\u001b[0;34m\u001b[0m\u001b[0;34m\u001b[0m\u001b[0m\n",
            "\u001b[0;32m/usr/local/lib/python3.11/dist-packages/pandas/core/groupby/grouper.py\u001b[0m in \u001b[0;36mget_grouper\u001b[0;34m(obj, key, axis, level, sort, observed, validate, dropna)\u001b[0m\n\u001b[1;32m   1041\u001b[0m                 \u001b[0min_axis\u001b[0m\u001b[0;34m,\u001b[0m \u001b[0mlevel\u001b[0m\u001b[0;34m,\u001b[0m \u001b[0mgpr\u001b[0m \u001b[0;34m=\u001b[0m \u001b[0;32mFalse\u001b[0m\u001b[0;34m,\u001b[0m \u001b[0mgpr\u001b[0m\u001b[0;34m,\u001b[0m \u001b[0;32mNone\u001b[0m\u001b[0;34m\u001b[0m\u001b[0;34m\u001b[0m\u001b[0m\n\u001b[1;32m   1042\u001b[0m             \u001b[0;32melse\u001b[0m\u001b[0;34m:\u001b[0m\u001b[0;34m\u001b[0m\u001b[0;34m\u001b[0m\u001b[0m\n\u001b[0;32m-> 1043\u001b[0;31m                 \u001b[0;32mraise\u001b[0m \u001b[0mKeyError\u001b[0m\u001b[0;34m(\u001b[0m\u001b[0mgpr\u001b[0m\u001b[0;34m)\u001b[0m\u001b[0;34m\u001b[0m\u001b[0;34m\u001b[0m\u001b[0m\n\u001b[0m\u001b[1;32m   1044\u001b[0m         \u001b[0;32melif\u001b[0m \u001b[0misinstance\u001b[0m\u001b[0;34m(\u001b[0m\u001b[0mgpr\u001b[0m\u001b[0;34m,\u001b[0m \u001b[0mGrouper\u001b[0m\u001b[0;34m)\u001b[0m \u001b[0;32mand\u001b[0m \u001b[0mgpr\u001b[0m\u001b[0;34m.\u001b[0m\u001b[0mkey\u001b[0m \u001b[0;32mis\u001b[0m \u001b[0;32mnot\u001b[0m \u001b[0;32mNone\u001b[0m\u001b[0;34m:\u001b[0m\u001b[0;34m\u001b[0m\u001b[0;34m\u001b[0m\u001b[0m\n\u001b[1;32m   1045\u001b[0m             \u001b[0;31m# Add key to exclusions\u001b[0m\u001b[0;34m\u001b[0m\u001b[0;34m\u001b[0m\u001b[0m\n",
            "\u001b[0;31mKeyError\u001b[0m: 'symbol'"
          ]
        }
      ]
    },
    {
      "cell_type": "markdown",
      "source": [
        "# Zipline"
      ],
      "metadata": {
        "id": "q8U25G3JSgFR"
      }
    },
    {
      "cell_type": "code",
      "source": [
        "!apt-get update\n",
        "!apt-get install -y build-essential"
      ],
      "metadata": {
        "id": "1KBLY-dZTZni",
        "outputId": "b5d185bb-c9fd-44af-b1c5-514421fb903c",
        "colab": {
          "base_uri": "https://localhost:8080/"
        }
      },
      "execution_count": 23,
      "outputs": [
        {
          "output_type": "stream",
          "name": "stdout",
          "text": [
            "Get:1 https://cloud.r-project.org/bin/linux/ubuntu jammy-cran40/ InRelease [3,632 B]\n",
            "Get:2 https://developer.download.nvidia.com/compute/cuda/repos/ubuntu2204/x86_64  InRelease [1,581 B]\n",
            "Get:3 https://r2u.stat.illinois.edu/ubuntu jammy InRelease [6,555 B]\n",
            "Hit:4 http://archive.ubuntu.com/ubuntu jammy InRelease\n",
            "Get:5 http://security.ubuntu.com/ubuntu jammy-security InRelease [129 kB]\n",
            "Get:6 http://archive.ubuntu.com/ubuntu jammy-updates InRelease [128 kB]\n",
            "Hit:7 https://ppa.launchpadcontent.net/deadsnakes/ppa/ubuntu jammy InRelease\n",
            "Get:8 https://developer.download.nvidia.com/compute/cuda/repos/ubuntu2204/x86_64  Packages [1,381 kB]\n",
            "Hit:9 https://ppa.launchpadcontent.net/graphics-drivers/ppa/ubuntu jammy InRelease\n",
            "Get:10 https://r2u.stat.illinois.edu/ubuntu jammy/main all Packages [8,796 kB]\n",
            "Hit:11 https://ppa.launchpadcontent.net/ubuntugis/ppa/ubuntu jammy InRelease\n",
            "Get:12 http://archive.ubuntu.com/ubuntu jammy-backports InRelease [127 kB]\n",
            "Get:13 https://r2u.stat.illinois.edu/ubuntu jammy/main amd64 Packages [2,691 kB]\n",
            "Get:14 http://security.ubuntu.com/ubuntu jammy-security/universe amd64 Packages [1,239 kB]\n",
            "Get:15 http://archive.ubuntu.com/ubuntu jammy-updates/multiverse amd64 Packages [55.7 kB]\n",
            "Get:16 http://security.ubuntu.com/ubuntu jammy-security/multiverse amd64 Packages [47.7 kB]\n",
            "Get:17 http://security.ubuntu.com/ubuntu jammy-security/restricted amd64 Packages [3,892 kB]\n",
            "Get:18 http://archive.ubuntu.com/ubuntu jammy-updates/restricted amd64 Packages [4,049 kB]\n",
            "Get:19 http://security.ubuntu.com/ubuntu jammy-security/main amd64 Packages [2,737 kB]\n",
            "Get:20 http://archive.ubuntu.com/ubuntu jammy-updates/universe amd64 Packages [1,538 kB]\n",
            "Get:21 http://archive.ubuntu.com/ubuntu jammy-updates/main amd64 Packages [3,045 kB]\n",
            "Get:22 http://archive.ubuntu.com/ubuntu jammy-backports/universe amd64 Packages [35.2 kB]\n",
            "Fetched 29.9 MB in 3s (9,270 kB/s)\n",
            "Reading package lists... Done\n",
            "W: Skipping acquire of configured file 'main/source/Sources' as repository 'https://r2u.stat.illinois.edu/ubuntu jammy InRelease' does not seem to provide it (sources.list entry misspelt?)\n",
            "Reading package lists... Done\n",
            "Building dependency tree... Done\n",
            "Reading state information... Done\n",
            "build-essential is already the newest version (12.9ubuntu3).\n",
            "0 upgraded, 0 newly installed, 0 to remove and 40 not upgraded.\n"
          ]
        }
      ]
    },
    {
      "cell_type": "code",
      "source": [
        "!pip install --force-reinstall --no-binary :all: bcolz cyordereddict"
      ],
      "metadata": {
        "id": "wFFHyuY1ThrG",
        "outputId": "d25c6beb-64a7-4383-977a-01a86ea64324",
        "colab": {
          "base_uri": "https://localhost:8080/"
        }
      },
      "execution_count": 24,
      "outputs": [
        {
          "output_type": "stream",
          "name": "stdout",
          "text": [
            "Collecting bcolz\n",
            "  Using cached bcolz-1.2.1.tar.gz (1.5 MB)\n",
            "  Preparing metadata (setup.py) ... \u001b[?25l\u001b[?25hdone\n",
            "Collecting cyordereddict\n",
            "  Using cached cyordereddict-1.0.0.tar.gz (138 kB)\n",
            "  Preparing metadata (setup.py) ... \u001b[?25l\u001b[?25hdone\n",
            "Collecting numpy>=1.7 (from bcolz)\n",
            "  Downloading numpy-2.2.4.tar.gz (20.3 MB)\n",
            "\u001b[2K     \u001b[90m━━━━━━━━━━━━━━━━━━━━━━━━━━━━━━━━━━━━━━━━\u001b[0m \u001b[32m20.3/20.3 MB\u001b[0m \u001b[31m79.8 MB/s\u001b[0m eta \u001b[36m0:00:00\u001b[0m\n",
            "\u001b[?25h  Installing build dependencies ... \u001b[?25l\u001b[?25hcanceled\n",
            "\u001b[31mERROR: Operation cancelled by user\u001b[0m\u001b[31m\n",
            "\u001b[0m"
          ]
        }
      ]
    },
    {
      "cell_type": "code",
      "source": [
        "pip install yfinance pandas matplotlib zipline"
      ],
      "metadata": {
        "id": "_ptuO5NLSlf6",
        "outputId": "f536acbc-8899-4996-98b8-1dee5157faeb",
        "colab": {
          "base_uri": "https://localhost:8080/"
        }
      },
      "execution_count": 25,
      "outputs": [
        {
          "output_type": "stream",
          "name": "stdout",
          "text": [
            "Requirement already satisfied: yfinance in /usr/local/lib/python3.11/dist-packages (0.2.55)\n",
            "Requirement already satisfied: pandas in /usr/local/lib/python3.11/dist-packages (2.2.2)\n",
            "Requirement already satisfied: matplotlib in /usr/local/lib/python3.11/dist-packages (3.10.0)\n",
            "Collecting zipline\n",
            "  Using cached zipline-1.4.1.tar.gz (5.4 MB)\n",
            "  Preparing metadata (setup.py) ... \u001b[?25l\u001b[?25hdone\n",
            "Requirement already satisfied: numpy>=1.16.5 in /usr/local/lib/python3.11/dist-packages (from yfinance) (2.0.2)\n",
            "Requirement already satisfied: requests>=2.31 in /usr/local/lib/python3.11/dist-packages (from yfinance) (2.32.3)\n",
            "Requirement already satisfied: multitasking>=0.0.7 in /usr/local/lib/python3.11/dist-packages (from yfinance) (0.0.11)\n",
            "Requirement already satisfied: platformdirs>=2.0.0 in /usr/local/lib/python3.11/dist-packages (from yfinance) (4.3.7)\n",
            "Requirement already satisfied: pytz>=2022.5 in /usr/local/lib/python3.11/dist-packages (from yfinance) (2025.1)\n",
            "Requirement already satisfied: frozendict>=2.3.4 in /usr/local/lib/python3.11/dist-packages (from yfinance) (2.4.6)\n",
            "Requirement already satisfied: peewee>=3.16.2 in /usr/local/lib/python3.11/dist-packages (from yfinance) (3.17.9)\n",
            "Requirement already satisfied: beautifulsoup4>=4.11.1 in /usr/local/lib/python3.11/dist-packages (from yfinance) (4.13.3)\n",
            "Requirement already satisfied: python-dateutil>=2.8.2 in /usr/local/lib/python3.11/dist-packages (from pandas) (2.8.2)\n",
            "Requirement already satisfied: tzdata>=2022.7 in /usr/local/lib/python3.11/dist-packages (from pandas) (2025.1)\n",
            "Requirement already satisfied: contourpy>=1.0.1 in /usr/local/lib/python3.11/dist-packages (from matplotlib) (1.3.1)\n",
            "Requirement already satisfied: cycler>=0.10 in /usr/local/lib/python3.11/dist-packages (from matplotlib) (0.12.1)\n",
            "Requirement already satisfied: fonttools>=4.22.0 in /usr/local/lib/python3.11/dist-packages (from matplotlib) (4.56.0)\n",
            "Requirement already satisfied: kiwisolver>=1.3.1 in /usr/local/lib/python3.11/dist-packages (from matplotlib) (1.4.8)\n",
            "Requirement already satisfied: packaging>=20.0 in /usr/local/lib/python3.11/dist-packages (from matplotlib) (24.2)\n",
            "Requirement already satisfied: pillow>=8 in /usr/local/lib/python3.11/dist-packages (from matplotlib) (11.1.0)\n",
            "Requirement already satisfied: pyparsing>=2.3.1 in /usr/local/lib/python3.11/dist-packages (from matplotlib) (3.2.1)\n",
            "Requirement already satisfied: pip>=7.1.0 in /usr/local/lib/python3.11/dist-packages (from zipline) (24.1.2)\n",
            "Requirement already satisfied: setuptools>18.0 in /usr/local/lib/python3.11/dist-packages (from zipline) (75.1.0)\n",
            "Collecting Logbook>=0.12.5 (from zipline)\n",
            "  Using cached logbook-1.8.1-cp311-cp311-manylinux_2_17_x86_64.manylinux2014_x86_64.whl.metadata (2.6 kB)\n",
            "Requirement already satisfied: click>=4.0.0 in /usr/local/lib/python3.11/dist-packages (from zipline) (8.1.8)\n",
            "Requirement already satisfied: six>=1.10.0 in /usr/local/lib/python3.11/dist-packages (from zipline) (1.17.0)\n",
            "Collecting python-interface>=1.5.3 (from zipline)\n",
            "  Using cached python-interface-1.6.1.tar.gz (19 kB)\n",
            "  Preparing metadata (setup.py) ... \u001b[?25l\u001b[?25hdone\n",
            "Requirement already satisfied: multipledispatch>=0.6.0 in /usr/local/lib/python3.11/dist-packages (from zipline) (1.0.0)\n",
            "Requirement already satisfied: toolz>=0.8.2 in /usr/local/lib/python3.11/dist-packages (from zipline) (0.12.1)\n",
            "INFO: pip is looking at multiple versions of zipline to determine which version is compatible with other requirements. This could take a while.\n",
            "Collecting zipline\n",
            "  Using cached zipline-1.4.0.tar.gz (5.3 MB)\n",
            "  Preparing metadata (setup.py) ... \u001b[?25l\u001b[?25hdone\n",
            "Collecting contextlib2>=0.4.0 (from zipline)\n",
            "  Using cached contextlib2-21.6.0-py2.py3-none-any.whl.metadata (4.1 kB)\n",
            "Collecting zipline\n",
            "  Using cached zipline-1.3.0.tar.gz (2.5 MB)\n",
            "  Preparing metadata (setup.py) ... \u001b[?25l\u001b[?25hdone\n",
            "Collecting requests-file>=1.4.1 (from zipline)\n",
            "  Using cached requests_file-2.1.0-py2.py3-none-any.whl.metadata (1.7 kB)\n",
            "Requirement already satisfied: scipy>=0.17.1 in /usr/local/lib/python3.11/dist-packages (from zipline) (1.14.1)\n",
            "Collecting zipline\n",
            "  Using cached zipline-1.2.0.tar.gz (659 kB)\n",
            "  Preparing metadata (setup.py) ... \u001b[?25l\u001b[?25hdone\n",
            "  Using cached zipline-1.1.1.tar.gz (640 kB)\n",
            "  Preparing metadata (setup.py) ... \u001b[?25l\u001b[?25hdone\n",
            "  Using cached zipline-1.1.0.tar.gz (433 kB)\n",
            "  Preparing metadata (setup.py) ... \u001b[?25l\u001b[?25hdone\n",
            "  Using cached zipline-1.0.2.tar.gz (392 kB)\n",
            "  Preparing metadata (setup.py) ... \u001b[?25l\u001b[?25hdone\n",
            "  Using cached zipline-1.0.1.tar.gz (366 kB)\n",
            "  Preparing metadata (setup.py) ... \u001b[?25l\u001b[?25hdone\n",
            "INFO: pip is still looking at multiple versions of zipline to determine which version is compatible with other requirements. This could take a while.\n",
            "  Using cached zipline-1.0.0.tar.gz (1.1 MB)\n",
            "  Preparing metadata (setup.py) ... \u001b[?25l\u001b[?25hdone\n",
            "  Using cached zipline-0.9.0-cp311-cp311-linux_x86_64.whl\n",
            "Requirement already satisfied: patsy>=0.4.0 in /usr/local/lib/python3.11/dist-packages (from zipline) (1.0.1)\n",
            "Requirement already satisfied: statsmodels>=0.6.1 in /usr/local/lib/python3.11/dist-packages (from zipline) (0.14.4)\n",
            "Requirement already satisfied: Cython>=0.22.1 in /usr/local/lib/python3.11/dist-packages (from zipline) (3.0.12)\n",
            "Collecting cyordereddict>=0.2.2 (from zipline)\n",
            "  Using cached cyordereddict-1.0.0.tar.gz (138 kB)\n",
            "  Preparing metadata (setup.py) ... \u001b[?25l\u001b[?25hdone\n",
            "Requirement already satisfied: bottleneck>=1.0.0 in /usr/local/lib/python3.11/dist-packages (from zipline) (1.4.2)\n",
            "Requirement already satisfied: decorator>=4.0.0 in /usr/local/lib/python3.11/dist-packages (from zipline) (4.4.2)\n",
            "Requirement already satisfied: networkx>=1.9.1 in /usr/local/lib/python3.11/dist-packages (from zipline) (3.4.2)\n",
            "Requirement already satisfied: numexpr>=2.4.6 in /usr/local/lib/python3.11/dist-packages (from zipline) (2.10.2)\n",
            "Collecting bcolz>=0.12.1 (from zipline)\n",
            "  Using cached bcolz-1.2.1.tar.gz (1.5 MB)\n",
            "  Preparing metadata (setup.py) ... \u001b[?25l\u001b[?25hdone\n",
            "Requirement already satisfied: sqlalchemy>=1.0.8 in /usr/local/lib/python3.11/dist-packages (from zipline) (2.0.39)\n",
            "Requirement already satisfied: soupsieve>1.2 in /usr/local/lib/python3.11/dist-packages (from beautifulsoup4>=4.11.1->yfinance) (2.6)\n",
            "Requirement already satisfied: typing-extensions>=4.0.0 in /usr/local/lib/python3.11/dist-packages (from beautifulsoup4>=4.11.1->yfinance) (4.12.2)\n",
            "Requirement already satisfied: charset-normalizer<4,>=2 in /usr/local/lib/python3.11/dist-packages (from requests>=2.31->yfinance) (3.4.1)\n",
            "Requirement already satisfied: idna<4,>=2.5 in /usr/local/lib/python3.11/dist-packages (from requests>=2.31->yfinance) (3.10)\n",
            "Requirement already satisfied: urllib3<3,>=1.21.1 in /usr/local/lib/python3.11/dist-packages (from requests>=2.31->yfinance) (2.3.0)\n",
            "Requirement already satisfied: certifi>=2017.4.17 in /usr/local/lib/python3.11/dist-packages (from requests>=2.31->yfinance) (2025.1.31)\n",
            "Requirement already satisfied: greenlet!=0.4.17 in /usr/local/lib/python3.11/dist-packages (from sqlalchemy>=1.0.8->zipline) (3.1.1)\n",
            "Using cached contextlib2-21.6.0-py2.py3-none-any.whl (13 kB)\n",
            "Using cached logbook-1.8.1-cp311-cp311-manylinux_2_17_x86_64.manylinux2014_x86_64.whl (531 kB)\n",
            "Building wheels for collected packages: bcolz, cyordereddict\n",
            "  \u001b[1;31merror\u001b[0m: \u001b[1msubprocess-exited-with-error\u001b[0m\n",
            "  \n",
            "  \u001b[31m×\u001b[0m \u001b[32mpython setup.py bdist_wheel\u001b[0m did not run successfully.\n",
            "  \u001b[31m│\u001b[0m exit code: \u001b[1;36m1\u001b[0m\n",
            "  \u001b[31m╰─>\u001b[0m See above for output.\n",
            "  \n",
            "  \u001b[1;35mnote\u001b[0m: This error originates from a subprocess, and is likely not a problem with pip.\n",
            "  Building wheel for bcolz (setup.py) ... \u001b[?25lerror\n",
            "\u001b[31m  ERROR: Failed building wheel for bcolz\u001b[0m\u001b[31m\n",
            "\u001b[0m\u001b[?25h  Running setup.py clean for bcolz\n",
            "  \u001b[1;31merror\u001b[0m: \u001b[1msubprocess-exited-with-error\u001b[0m\n",
            "  \n",
            "  \u001b[31m×\u001b[0m \u001b[32mpython setup.py bdist_wheel\u001b[0m did not run successfully.\n",
            "  \u001b[31m│\u001b[0m exit code: \u001b[1;36m1\u001b[0m\n",
            "  \u001b[31m╰─>\u001b[0m See above for output.\n",
            "  \n",
            "  \u001b[1;35mnote\u001b[0m: This error originates from a subprocess, and is likely not a problem with pip.\n",
            "  Building wheel for cyordereddict (setup.py) ... \u001b[?25lerror\n",
            "\u001b[31m  ERROR: Failed building wheel for cyordereddict\u001b[0m\u001b[31m\n",
            "\u001b[0m\u001b[?25h  Running setup.py clean for cyordereddict\n",
            "Failed to build bcolz cyordereddict\n",
            "\u001b[31mERROR: ERROR: Failed to build installable wheels for some pyproject.toml based projects (bcolz, cyordereddict)\u001b[0m\u001b[31m\n",
            "\u001b[0m"
          ]
        }
      ]
    },
    {
      "cell_type": "code",
      "source": [
        "import yfinance as yf\n",
        "import pandas as pd\n",
        "import matplotlib.pyplot as plt\n",
        "from zipline.api import order, record, symbol, schedule_function\n",
        "from zipline.utils.events import date_rules, time_rules\n",
        "from zipline import run_algorithm\n",
        "\n",
        "def initialize(context):\n",
        "    context.asset = symbol(\"VIX\")\n",
        "    context.last_buy_price = None  # Store last buy price\n",
        "    context.held = False  # Track if we own VIX\n",
        "\n",
        "    schedule_function(rebalance, date_rules.every_day(), time_rules.market_open())\n",
        "\n",
        "def rebalance(context, data):\n",
        "    current_price = data.current(context.asset, \"price\")\n",
        "\n",
        "    if not context.held:  # Buy condition\n",
        "        if context.last_buy_price is None or current_price <= context.last_buy_price:\n",
        "            order(context.asset, 10)\n",
        "            context.last_buy_price = current_price\n",
        "            context.held = True\n",
        "    else:  # Sell condition: 30% profit\n",
        "        if current_price >= context.last_buy_price * 1.3:\n",
        "            order(context.asset, -10)\n",
        "            context.held = False  # Reset position\n",
        "\n",
        "    record(VIX=current_price, last_buy=context.last_buy_price, held=int(context.held))\n",
        "\n",
        "# Fetch VIX data from Yahoo Finance\n",
        "def get_vix_data():\n",
        "    vix = yf.download(\"^VIX\", start=\"2015-01-01\", end=\"2023-01-01\")\n",
        "    df = vix[[\"Adj Close\"]].rename(columns={\"Adj Close\": \"price\"})\n",
        "    df.index = df.index.tz_localize(\"UTC\")  # Zipline requires UTC timestamps\n",
        "    return df\n",
        "\n",
        "# Run backtest\n",
        "start = pd.Timestamp(\"2015-01-01\", tz=\"utc\")\n",
        "end = pd.Timestamp(\"2023-01-01\", tz=\"utc\")\n",
        "\n",
        "vix_data = get_vix_data()\n",
        "\n",
        "result = run_algorithm(\n",
        "    start=start, end=end, initialize=initialize,\n",
        "    capital_base=10000, data_frequency=\"daily\",\n",
        "    data=vix_data\n",
        ")\n",
        "\n",
        "# Plot portfolio performance\n",
        "result.portfolio_value.plot()\n",
        "plt.title(\"VIX 30% Profit Strategy Performance\")\n",
        "plt.xlabel(\"Date\")\n",
        "plt.ylabel(\"Portfolio Value\")\n",
        "plt.show()\n"
      ],
      "metadata": {
        "id": "5bMgaR2oSjDf",
        "outputId": "f962c49b-caea-4193-9b40-29fd97d6b2b5",
        "colab": {
          "base_uri": "https://localhost:8080/",
          "height": 393
        }
      },
      "execution_count": 21,
      "outputs": [
        {
          "output_type": "error",
          "ename": "ModuleNotFoundError",
          "evalue": "No module named 'zipline'",
          "traceback": [
            "\u001b[0;31m---------------------------------------------------------------------------\u001b[0m",
            "\u001b[0;31mModuleNotFoundError\u001b[0m                       Traceback (most recent call last)",
            "\u001b[0;32m<ipython-input-21-f7ccd0a36f24>\u001b[0m in \u001b[0;36m<cell line: 0>\u001b[0;34m()\u001b[0m\n\u001b[1;32m      2\u001b[0m \u001b[0;32mimport\u001b[0m \u001b[0mpandas\u001b[0m \u001b[0;32mas\u001b[0m \u001b[0mpd\u001b[0m\u001b[0;34m\u001b[0m\u001b[0;34m\u001b[0m\u001b[0m\n\u001b[1;32m      3\u001b[0m \u001b[0;32mimport\u001b[0m \u001b[0mmatplotlib\u001b[0m\u001b[0;34m.\u001b[0m\u001b[0mpyplot\u001b[0m \u001b[0;32mas\u001b[0m \u001b[0mplt\u001b[0m\u001b[0;34m\u001b[0m\u001b[0;34m\u001b[0m\u001b[0m\n\u001b[0;32m----> 4\u001b[0;31m \u001b[0;32mfrom\u001b[0m \u001b[0mzipline\u001b[0m\u001b[0;34m.\u001b[0m\u001b[0mapi\u001b[0m \u001b[0;32mimport\u001b[0m \u001b[0morder\u001b[0m\u001b[0;34m,\u001b[0m \u001b[0mrecord\u001b[0m\u001b[0;34m,\u001b[0m \u001b[0msymbol\u001b[0m\u001b[0;34m,\u001b[0m \u001b[0mschedule_function\u001b[0m\u001b[0;34m\u001b[0m\u001b[0;34m\u001b[0m\u001b[0m\n\u001b[0m\u001b[1;32m      5\u001b[0m \u001b[0;32mfrom\u001b[0m \u001b[0mzipline\u001b[0m\u001b[0;34m.\u001b[0m\u001b[0mutils\u001b[0m\u001b[0;34m.\u001b[0m\u001b[0mevents\u001b[0m \u001b[0;32mimport\u001b[0m \u001b[0mdate_rules\u001b[0m\u001b[0;34m,\u001b[0m \u001b[0mtime_rules\u001b[0m\u001b[0;34m\u001b[0m\u001b[0;34m\u001b[0m\u001b[0m\n\u001b[1;32m      6\u001b[0m \u001b[0;32mfrom\u001b[0m \u001b[0mzipline\u001b[0m \u001b[0;32mimport\u001b[0m \u001b[0mrun_algorithm\u001b[0m\u001b[0;34m\u001b[0m\u001b[0;34m\u001b[0m\u001b[0m\n",
            "\u001b[0;31mModuleNotFoundError\u001b[0m: No module named 'zipline'",
            "",
            "\u001b[0;31m---------------------------------------------------------------------------\u001b[0;32m\nNOTE: If your import is failing due to a missing package, you can\nmanually install dependencies using either !pip or !apt.\n\nTo view examples of installing some common dependencies, click the\n\"Open Examples\" button below.\n\u001b[0;31m---------------------------------------------------------------------------\u001b[0m\n"
          ],
          "errorDetails": {
            "actions": [
              {
                "action": "open_url",
                "actionText": "Open Examples",
                "url": "/notebooks/snippets/importing_libraries.ipynb"
              }
            ]
          }
        }
      ]
    }
  ],
  "metadata": {
    "colab": {
      "provenance": [],
      "toc_visible": true,
      "include_colab_link": true
    },
    "kernelspec": {
      "display_name": "Python 3",
      "language": "python",
      "name": "python3"
    },
    "language_info": {
      "codemirror_mode": {
        "name": "ipython",
        "version": 3
      },
      "file_extension": ".py",
      "mimetype": "text/x-python",
      "name": "python",
      "nbconvert_exporter": "python",
      "pygments_lexer": "ipython3",
      "version": "3.10.12"
    }
  },
  "nbformat": 4,
  "nbformat_minor": 0
}