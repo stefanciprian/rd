{
 "cells": [
  {
   "cell_type": "markdown",
   "metadata": {},
   "source": [
    "# VIX Wavelets"
   ]
  },
  {
   "cell_type": "code",
   "execution_count": null,
   "metadata": {
    "vscode": {
     "languageId": "plaintext"
    }
   },
   "outputs": [],
   "source": [
    "!pip install yfinance pywt statsmodels pandas numpy matplotlib"
   ]
  },
  {
   "cell_type": "code",
   "execution_count": null,
   "metadata": {
    "vscode": {
     "languageId": "plaintext"
    }
   },
   "outputs": [],
   "source": [
    "import yfinance as yf\n",
    "import numpy as np\n",
    "import pandas as pd\n",
    "import pywt\n",
    "import matplotlib.pyplot as plt\n",
    "from statsmodels.tsa.arima.model import ARIMA\n",
    "\n",
    "# Step 1: Download VIX Data\n",
    "vix = yf.download(\"^VIX\", start=\"2010-01-01\", end=\"2025-01-01\")['Close']\n",
    "\n",
    "# Step 2: Perform Wavelet Decomposition\n",
    "wavelet = 'db4'  # Daubechies wavelet\n",
    "level = 3  # Number of decomposition levels\n",
    "\n",
    "coeffs = pywt.wavedec(vix, wavelet, level=level)\n",
    "approximation = coeffs[0]  # Approximate part (low-frequency)\n",
    "details = coeffs[1:]  # Detail parts (high-frequency)\n",
    "\n",
    "# Step 3: Fit ARIMA model on the Approximate Component\n",
    "train_size = int(len(approximation) * 0.8)\n",
    "train, test = approximation[:train_size], approximation[train_size:]\n",
    "\n",
    "model = ARIMA(train, order=(2,1,2))\n",
    "model_fit = model.fit()\n",
    "\n",
    "# Step 4: Forecast future values\n",
    "forecast_steps = len(test)\n",
    "forecast = model_fit.forecast(steps=forecast_steps)\n",
    "\n",
    "# Step 5: Reconstruct the signal using inverse wavelet transform\n",
    "new_coeffs = [np.concatenate([train, forecast])] + details\n",
    "reconstructed_signal = pywt.waverec(new_coeffs, wavelet)\n",
    "\n",
    "# Step 6: Plot Results\n",
    "plt.figure(figsize=(10,5))\n",
    "plt.plot(vix.index[-len(reconstructed_signal):], reconstructed_signal, label=\"Wavelet Forecast\", linestyle=\"--\")\n",
    "plt.plot(vix.index, vix, label=\"Actual VIX\", alpha=0.7)\n",
    "plt.legend()\n",
    "plt.title(\"VIX Forecast using Wavelet and ARIMA\")\n",
    "plt.show()\n"
   ]
  }
 ],
 "metadata": {
  "language_info": {
   "name": "python"
  }
 },
 "nbformat": 4,
 "nbformat_minor": 2
}
